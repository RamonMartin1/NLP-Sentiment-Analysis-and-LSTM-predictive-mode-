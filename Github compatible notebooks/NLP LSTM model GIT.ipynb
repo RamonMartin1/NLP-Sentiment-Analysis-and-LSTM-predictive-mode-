{
 "cells": [
  {
   "cell_type": "markdown",
   "metadata": {},
   "source": [
    "# Creating a predictive NLP Model\n",
    "\n",
    "1. Corpus Preparation  \n",
    "\n",
    "    1.1 Importing text  \n",
    "    \n",
    "    1.2. Tokenizing\n",
    "    \n",
    "    1.3. Word Frequency\n",
    "    \n",
    "    1.4. Inspecting Cases\n",
    "\n",
    "    1.5. Lemmatisation \n",
    "\n",
    "    1.6. Data Cleaning \n",
    "\n",
    "    1.7. Dropping Unique Words \n",
    "\n",
    "2. Creating a Model \n",
    "\n",
    "    2.1 Creating Tensors \n",
    "\n",
    "    2.2 Hardware Based Configuration \n",
    "\n",
    "    2.3 Model Configuration  \n",
    "\n",
    "3. Trainging a model \n",
    "\n",
    "    3.1 Model testting \n",
    "\n",
    "4. Sentence Generation \n",
    "\n",
    "5. Conclusion  \n"
   ]
  },
  {
   "cell_type": "markdown",
   "metadata": {},
   "source": [
    "### 1. Corpus Preparation\n",
    "\n"
   ]
  },
  {
   "cell_type": "markdown",
   "metadata": {
    "colab_type": "text",
    "id": "qF_ESTSJT9IX"
   },
   "source": [
    "#### 1.1 Importing text"
   ]
  },
  {
   "cell_type": "code",
   "execution_count": 1,
   "metadata": {
    "colab": {
     "base_uri": "https://localhost:8080/",
     "height": 51
    },
    "colab_type": "code",
    "id": "-bxV3YjC7psj",
    "outputId": "72b2c84a-c13e-4353-df6b-202859f74f34"
   },
   "outputs": [
    {
     "name": "stdout",
     "output_type": "stream",
     "text": [
      "Our dataset contains 41124 tweets\n",
      "and 33052 lexical types\n"
     ]
    }
   ],
   "source": [
    "from urllib.request import urlopen\n",
    "txt = urlopen(\"https://raw.githubusercontent.com/RamonMartin1/NLP_Project/master/text_tweets.txt\").read().decode('utf8').split(\"\\n\")\n",
    "print(\"Our dataset contains {} tweets\".format(len(txt)))\n",
    "everything = set([w for s in txt for w in s.split()])\n",
    "print(\"and {} lexical types\".format(len(everything)))"
   ]
  },
  {
   "cell_type": "markdown",
   "metadata": {
    "colab_type": "text",
    "id": "sc3u5U44A8ap"
   },
   "source": [
    "#### 1.2. Tokenizing\n",
    "\n",
    "Separating tweets into lexical tokens\n",
    "Also applying test/train split"
   ]
  },
  {
   "cell_type": "code",
   "execution_count": 25,
   "metadata": {
    "colab": {},
    "colab_type": "code",
    "id": "_6RgRCeEATzo"
   },
   "outputs": [],
   "source": [
    "\n",
    "# 1. Import the tokenizer\n",
    "import spacy\n",
    "\n",
    "nlp = spacy.load(\"en_core_web_sm\", disable=[\"parser\",\"tagger\",\"ner\",\"textcat\"])\n",
    "\n",
    "# 2. Tokenize\n",
    "txt = [nlp(s) for s in txt]\n",
    "\n",
    "# 3. Mark the beginning and end of each script \n",
    "txt = [ [\"<s>\"] + [str(w) for w in s] + [\"</s>\"] for s in txt]\n",
    "\n",
    "# 4. Separate the data into training and validation\n",
    "train = txt[:-5]\n",
    "valid = txt[-5:]\n",
    "\n",
    "# 5. Flatten the lists into one long string and remove extra whitespace\n",
    "train = [w for s in train for w in s if not w.isspace()]\n",
    "valid = [w for s in valid for w in s if not w.isspace()]"
   ]
  },
  {
   "cell_type": "code",
   "execution_count": 26,
   "metadata": {
    "colab": {},
    "colab_type": "code",
    "id": "JzYMScnsDQ2V"
   },
   "outputs": [
    {
     "name": "stdout",
     "output_type": "stream",
     "text": [
      "Our training dataset contains 25090 lexical types\n",
      "Our training dataset contains 2053200 lexical tokens\n"
     ]
    }
   ],
   "source": [
    "#Checking data set size\n",
    "print(\"Our training dataset contains {} lexical types\".format(len(set(train))))\n",
    "print(\"Our training dataset contains {} lexical tokens\".format(len(train)))"
   ]
  },
  {
   "cell_type": "markdown",
   "metadata": {},
   "source": [
    "#### 1.3. Word frequency\n",
    "\n",
    "Evaluating how frequently each word appears"
   ]
  },
  {
   "cell_type": "code",
   "execution_count": 27,
   "metadata": {
    "colab": {},
    "colab_type": "code",
    "id": "avE76fKTOdDC"
   },
   "outputs": [
    {
     "data": {
      "image/png": "[encoded data removed]",
      "text/plain": [
       "<Figure size 720x360 with 1 Axes>"
      ]
     },
     "metadata": {
      "needs_background": "light"
     },
     "output_type": "display_data"
    }
   ],
   "source": [
    "\n",
    "from collections import Counter, defaultdict\n",
    "counts = Counter(train)\n",
    "\n",
    "frequencies = [0]*8\n",
    "for w in counts:\n",
    "  if counts[w] >= 128:\n",
    "    frequencies[0] += 1\n",
    "  elif counts[w] >= 64:\n",
    "    frequencies[1] += 1\n",
    "  elif counts[w] >= 32:\n",
    "    frequencies[2] += 1\n",
    "  elif counts[w] >= 16:\n",
    "    frequencies[3] += 1\n",
    "  elif counts[w] >= 8:\n",
    "    frequencies[4] += 1\n",
    "  elif counts[w] >= 4:\n",
    "    frequencies[5] += 1\n",
    "  elif counts[w] >= 2:\n",
    "    frequencies[6] += 1\n",
    "  else:\n",
    "    frequencies[7] += 1\n",
    "\n",
    "\n",
    "# 2. Plot their distributions\n",
    "import matplotlib.pyplot as plt\n",
    "import seaborn as sns\n",
    "\n",
    "f,a = plt.subplots(1,1,figsize=(10,5))\n",
    "a.set(xlabel='Lexical types occuring more then n times', \n",
    "      ylabel='Number of lexical types')\n",
    "\n",
    "labels = [128, 64, 32, 16, 8, 4, 2, 1]\n",
    "_ = sns.barplot(labels, frequencies, ax=a, order=labels)\n",
    "plt.savefig(\"Lexical Types1.png\")"
   ]
  },
  {
   "cell_type": "markdown",
   "metadata": {
    "colab_type": "text",
    "id": "Hq2wDniV_sEo"
   },
   "source": [
    "#### 1.4. Inspecting Cases\n",
    "\n",
    "making sure unique words are actually unique "
   ]
  },
  {
   "cell_type": "code",
   "execution_count": 28,
   "metadata": {
    "colab": {},
    "colab_type": "code",
    "id": "dHsXx2Kj_0AX"
   },
   "outputs": [
    {
     "name": "stdout",
     "output_type": "stream",
     "text": [
      "content           ooafwn            wallflow          cling\n",
      "barnesandnobl     igoogl            beckham           britney\n",
      "nxvquo            mmjked            pinket            mvovzb\n",
      "knyswt            brow              stuf              nabiscoworld\n",
      "hyst              lick              sweepstak         ycsqmd\n",
      "bounty            sqvqq             wahlberg          bocell\n",
      "fanast            theorigin         thisthursday      connery\n",
      "erv               onthursday        estef             adkin\n",
      "jewlery           ckmkku            geomorpholog      landform\n",
      "newyorksights     wsjnyrealestatemiddlelsmini   quattro\n",
      "hollyrod          peet              mandalay          orianth\n",
      "erictrumpfound    ticketl           fundraiserid      jimen\n",
      "wozniack          addvks            internaton        buwwnb\n",
      "abridg            ckojpn            giunt             mizrah\n",
      "evanfors          minnell           brandy            includetrump\n",
      "roiresearch       farewel           deerhound         htvrfq\n",
      "fpkqsy            gagn              exbfow            exviyc\n",
      "fsouew            hriach            hqjere            dwjzfs\n",
      "hiolbs            fugbyy            itsthesitu        realjeffreyross\n",
      "frkfrz            fmnvbx            hbtqxg            thetrumpnetwork\n",
      "trumpnetwork      geico             frcfzy            dxgqkc\n",
      "icubeg            fmyib             hjxrma            flmhjg\n",
      "meredithvieir     thechoirboy       mcleeoo           theimpetu\n",
      "rdercjr           pir               hhdwcr            danmcisaac\n",
      "gnmeel            gohhtq            gczbwr            elztzz\n",
      "fletc\n"
     ]
    }
   ],
   "source": [
    "\n",
    "\n",
    "from textwrap import wrap\n",
    "rare = [w for w in counts if counts[w] == 1]\n",
    "for line in wrap(\"   \".join([\"{:15s}\".format(w) for w in rare[:100]]), width=70):\n",
    "  print(line)"
   ]
  },
  {
   "cell_type": "markdown",
   "metadata": {},
   "source": [
    "#### 1.5. Lemmatisation \n",
    "\n",
    "Lemmatisation in linguistics is the process of grouping together the inflected forms of a word so they can be analysed as a single item.\n",
    "Ex. making sure words like \"time\" \"timing\" and \"timely\" are considered as 1 word"
   ]
  },
  {
   "cell_type": "code",
   "execution_count": 29,
   "metadata": {
    "colab": {},
    "colab_type": "code",
    "id": "6H0t1qQ0AQhI"
   },
   "outputs": [],
   "source": [
    "\n",
    "import re\n",
    "def simplify(w):\n",
    "    # Remove extra punctuation\n",
    "    w = w.replace(\"-\", \"\").replace(\"~\",\"\")\n",
    "    \n",
    "    # Replace numbers with # sign\n",
    "    w = re.sub('\\d', '#', w)\n",
    "    \n",
    "    # Change some endings\n",
    "    if len(w) > 3 and w[-2:] in set([\"ed\", \"er\",\"ly\"]):\n",
    "        return [w[:-2], w[-2:]]\n",
    "    elif len(w) > 4 and w[-3:] in set([\"ing\",\"'re\"]):\n",
    "        return [w[:-3], w[-3:]]\n",
    "    return [w]"
   ]
  },
  {
   "cell_type": "markdown",
   "metadata": {},
   "source": [
    "#### 1.6. Data cleaning "
   ]
  },
  {
   "cell_type": "code",
   "execution_count": 30,
   "metadata": {
    "colab": {},
    "colab_type": "code",
    "id": "Gp6CiTzOQnua"
   },
   "outputs": [
    {
     "name": "stdout",
     "output_type": "stream",
     "text": [
      "24982 lexical types\n",
      "2057926 lexical tokens\n"
     ]
    },
    {
     "data": {
      "image/png": "[encoded data removed]",
      "text/plain": [
       "<Figure size 720x360 with 1 Axes>"
      ]
     },
     "metadata": {
      "needs_background": "light"
     },
     "output_type": "display_data"
    }
   ],
   "source": [
    "\n",
    "train_clean = []\n",
    "for w in train:\n",
    "    for piece in simplify(w):\n",
    "        train_clean.append(piece)\n",
    "valid_clean = []\n",
    "for w in valid:\n",
    "    for piece in simplify(w):\n",
    "        valid_clean.append(piece)\n",
    "        \n",
    "\n",
    "print(\"{} lexical types\".format(len(set(train_clean))))\n",
    "print(\"{} lexical tokens\".format(len(train_clean)))\n",
    "\n",
    "\n",
    "counts = Counter(train_clean)\n",
    "\n",
    "\n",
    "frequencies = [0]*8\n",
    "for w in counts:\n",
    "  if counts[w] >= 128:\n",
    "    frequencies[0] += 1\n",
    "  elif counts[w] >= 64:\n",
    "    frequencies[1] += 1\n",
    "  elif counts[w] >= 32:\n",
    "    frequencies[2] += 1\n",
    "  elif counts[w] >= 16:\n",
    "    frequencies[3] += 1\n",
    "  elif counts[w] >= 8:\n",
    "    frequencies[4] += 1\n",
    "  elif counts[w] >= 4:\n",
    "    frequencies[5] += 1\n",
    "  elif counts[w] >= 2:\n",
    "    frequencies[6] += 1\n",
    "  else:\n",
    "    frequencies[7] += 1\n",
    "\n",
    "\n",
    "# 2. Plot their distributions\n",
    "f,a = plt.subplots(1,1,figsize=(10,5))\n",
    "a.set(xlabel='Lexical types occuring more then n times', \n",
    "      ylabel='Number of lexical types')\n",
    "\n",
    "labels = [128, 64, 32, 16, 8, 4, 2, 1]\n",
    "_ = sns.barplot(labels, frequencies, ax=a, order=labels)\n",
    "plt.savefig(\"Lexical Types2.png\")"
   ]
  },
  {
   "cell_type": "markdown",
   "metadata": {
    "colab_type": "text",
    "id": "7kQ1O3NbRL0M"
   },
   "source": [
    "#### 1.7. Dropping unique and words \n",
    "unique words would only have 1 vector and thus cannot be used for model training"
   ]
  },
  {
   "cell_type": "code",
   "execution_count": 31,
   "metadata": {
    "colab": {},
    "colab_type": "code",
    "id": "QKCex8fuRoLR"
   },
   "outputs": [
    {
     "data": {
      "image/png": "[encoded data removed]",
      "text/plain": [
       "<Figure size 720x360 with 1 Axes>"
      ]
     },
     "metadata": {
      "needs_background": "light"
     },
     "output_type": "display_data"
    }
   ],
   "source": [
    "\n",
    "counts_clean = Counter(train_clean)\n",
    "train_unk = [w if counts_clean[w] > 1 else \"unk\" for w in train_clean]\n",
    "valid_unk = [w if w in counts_clean and counts_clean[w] > 1 \\\n",
    "               else \"unk\" for w in valid_clean]\n",
    "\n",
    "\n",
    "counts = Counter(train_unk)\n",
    "\n",
    "frequencies = [0]*8\n",
    "for w in counts:\n",
    "  if counts[w] >= 128:\n",
    "    frequencies[0] += 1\n",
    "  elif counts[w] >= 64:\n",
    "    frequencies[1] += 1\n",
    "  elif counts[w] >= 32:\n",
    "    frequencies[2] += 1\n",
    "  elif counts[w] >= 16:\n",
    "    frequencies[3] += 1\n",
    "  elif counts[w] >= 8:\n",
    "    frequencies[4] += 1\n",
    "  elif counts[w] >= 4:\n",
    "    frequencies[5] += 1\n",
    "  elif counts[w] >= 2:\n",
    "    frequencies[6] += 1\n",
    "  else:\n",
    "    frequencies[7] += 1\n",
    "\n",
    "\n",
    "# 2. Plot their distributions\n",
    "f,a = plt.subplots(1,1,figsize=(10,5))\n",
    "a.set(xlabel='Lexical types occuring more then n times', \n",
    "      ylabel='Number of lexical types')\n",
    "\n",
    "labels = [128, 64, 32, 16, 8, 4, 2, 1]\n",
    "_ = sns.barplot(labels, frequencies, ax=a, order=labels)\n",
    "plt.savefig(\"Lexical Types3.png\")"
   ]
  },
  {
   "cell_type": "code",
   "execution_count": 9,
   "metadata": {
    "colab": {},
    "colab_type": "code",
    "id": "vPcAiPeRAW8k"
   },
   "outputs": [
    {
     "name": "stdout",
     "output_type": "stream",
     "text": [
      "ترور              تری               تمرکز             تن\n",
      "جای               جرم               جریان             جمهوریم\n",
      "حركت              حقوق              حقیقت             خبرنگاران\n",
      "خطاب              خواهد             خواهی             خودشان\n",
      "داده              دارند             دنبال             دهيد\n",
      "دوره              دوست              دولتی             رؤیاهایشان\n",
      "رنج               رنجند             روشن              رژیم\n",
      "ریاست             زنداني            سرکوب             سزاوار\n",
      "سلاح              سمت               شاهد              شایسته\n",
      "شجاع              شجاعت             شدت               عنوان\n",
      "عهده              فساد              فشار              فقط\n",
      "قرار              قطع               كشتار             كشته\n",
      "كند               كنند              كه                ما\n",
      "متحده             متوقف             مجبور             مدتهاست\n",
      "مذاكره            مذاکره            مسالمت            مشاور\n",
      "ملی               مهمتر             موجب              نباید\n",
      "نجیب              نداردکه           نداشته            نزدیک\n",
      "نظارت             نكشيد             نه                نکشید\n",
      "ها                های               هراس              هزاران\n",
      "هستند             هستندpic          هسته              همچنان\n",
      "واقع              وصل               ویرانی            يا\n",
      "چهلسالشکست        کاملا             کرد               کرده\n",
      "کشتار             کشتن              کشیده             کمک\n",
      "کنار              کند               کنونی             کنیم\n",
      "گروه              گزارش             یابند             ｒｔ\n"
     ]
    }
   ],
   "source": [
    "rare = [w for w in counts_clean if counts_clean[w] == 1]\n",
    "rare.sort()\n",
    "for line in wrap(\"   \".join([\"{:15s}\".format(w) for w in rare[-100:]]), width=70):\n",
    "  print(line)"
   ]
  },
  {
   "cell_type": "markdown",
   "metadata": {
    "colab_type": "text",
    "id": "r7ttbZ-mUIed"
   },
   "source": [
    "## 2. Creating a Model "
   ]
  },
  {
   "cell_type": "markdown",
   "metadata": {
    "colab_type": "text",
    "id": "ZAEt8AhuvNyt"
   },
   "source": [
    "\n",
    "#### 2.1 Creating Tensors"
   ]
  },
  {
   "cell_type": "code",
   "execution_count": 10,
   "metadata": {
    "colab": {},
    "colab_type": "code",
    "id": "ZIcK-thVBcNW"
   },
   "outputs": [],
   "source": [
    "# STEP 2.1\n",
    "\n",
    "\n",
    "# Mapping words with index numbers\n",
    "vocabulary = set(train_unk)\n",
    "word_to_num = {}\n",
    "num_to_word = {}\n",
    "for num, word in enumerate(vocabulary):\n",
    "  word_to_num[word] = num\n",
    "  num_to_word[num] = word\n",
    "\n",
    "# Converting dataset\n",
    "import torch\n",
    "train = torch.LongTensor(len(train_unk))\n",
    "for i in range(len(train_unk)):\n",
    "  train[i] = word_to_num[train_unk[i]]\n",
    "\n",
    "valid = torch.LongTensor(len(valid_unk))\n",
    "for i in range(len(valid_unk)):\n",
    "  valid[i] = word_to_num[valid_unk[i]]"
   ]
  },
  {
   "cell_type": "markdown",
   "metadata": {},
   "source": [
    "#### 2.2 Hardware Based Configuration "
   ]
  },
  {
   "cell_type": "code",
   "execution_count": 11,
   "metadata": {
    "colab": {},
    "colab_type": "code",
    "id": "FetTV331Vqsq"
   },
   "outputs": [],
   "source": [
    "# STEP 2.2\n",
    "\n",
    "# Parameters\n",
    "batch_size = 20   \n",
    "seq_len = 35        \n",
    "\n",
    "# choose cpu or gpu d\n",
    "device = torch.device(\"cpu\")\n",
    "# Setting random seed, avoid using on laptops\n",
    "\n",
    "# torch.manual_seed(0)\n",
    "# torch.backends.cudnn.deterministic = True\n",
    "# torch.backends.cudnn.benchmark = False\n",
    "\n",
    "\n",
    "def batchify(data, bsz):\n",
    "    # Sivide the dataset into bsz parts.\n",
    "    nbatch = data.size(0) // bsz\n",
    "    # Trim off any extra elements that don't fit\n",
    "    data = data.narrow(0, 0, nbatch * bsz)\n",
    "    # Divide the data across batches evenly\n",
    "    data = data.view(bsz, -1).t().contiguous()\n",
    "    return data.to(device)\n",
    "\n",
    "def get_batch(source, i, seq_len):\n",
    "    seq_len = min(seq_len, len(source) - 1 - i)\n",
    "    data = source[i:i+seq_len]\n",
    "    target = source[i+1:i+1+seq_len].view(-1)\n",
    "    return data, target\n",
    "\n",
    "def repackage_hidden(h):\n",
    "    \"\"\"Wraps hidden states in new Tensors, to detach them from their history.\"\"\"\n",
    "    if isinstance(h, torch.Tensor):\n",
    "        return h.detach()\n",
    "    else:\n",
    "        return tuple(repackage_hidden(v) for v in h)\n",
    "\n",
    "train = batchify(train, batch_size)\n",
    "valid = batchify(valid, batch_size)"
   ]
  },
  {
   "cell_type": "markdown",
   "metadata": {
    "colab_type": "text",
    "id": "aj6OxhsOWs13"
   },
   "source": [
    "\n",
    "#### 2.3 Model Configuration \n",
    "\n"
   ]
  },
  {
   "cell_type": "code",
   "execution_count": 12,
   "metadata": {
    "colab": {},
    "colab_type": "code",
    "id": "dAazfehEBgT4"
   },
   "outputs": [],
   "source": [
    "\n",
    "\n",
    "import torch.nn as nn\n",
    "\n",
    "class EncoderDecoder(nn.Module):\n",
    "  def __init__(self):\n",
    "    \"\"\"\n",
    "        Define all the parameters of the model\n",
    "    \"\"\"\n",
    "    super(EncoderDecoder, self).__init__()\n",
    "    # How tightly should we compress our language represenations?\n",
    "    self.embed_size = 300      # How big is our word vector   \n",
    "    self.hidden_size = 600     # How big is our hidden space  \n",
    "    \n",
    "    \"\"\" Converting words to Vectors \"\"\"\n",
    "    # A lookup table for translating a word into a vector\n",
    "    self.embedding = nn.Embedding(len(vocabulary), self.embed_size)\n",
    "    # Initialize our word vectors with a random uniform distribution\n",
    "    initrange = 0.1\n",
    "    self.embedding.weight.data.uniform_(-initrange, initrange)\n",
    "\n",
    "    \n",
    "    \"\"\" An RNN (LSTM) with dropout \"\"\"\n",
    "    self.rnn = nn.LSTM(input_size=self.embed_size, hidden_size=self.hidden_size)\n",
    "    self.shrink = nn.Linear(self.hidden_size, self.embed_size)\n",
    "    self.drop = nn.Dropout(p=0.5)\n",
    "    \n",
    "    \"\"\" Predicting words from our model \"\"\"\n",
    "    # We convert our vector to a set of scores over words\n",
    "    self.decode = nn.Linear(self.embed_size, self.embedding.weight.size(0))\n",
    "    # We use the same matrix for this ``decoding'' that we used for ``encoding''\n",
    "    # https://arxiv.org/abs/1608.05859\n",
    "    self.decode.weight = self.embedding.weight\n",
    "    self.decode.bias.data.zero_()\n",
    "   \n",
    "  \n",
    "  def forward(self, input, hidden=None):\n",
    "    \"\"\"\n",
    "        Run the model\n",
    "    \"\"\"\n",
    "    # 1. Map words to vectors\n",
    "    embedded = self.embedding(input)\n",
    "    # 2. Process with an RNN\n",
    "    if hidden is not None:\n",
    "      output, hidden = self.rnn(embedded, hidden)\n",
    "    else:\n",
    "      output, hidden = self.rnn(embedded)\n",
    "    # 3. Apply dropout\n",
    "    output = F.relu(self.shrink(self.drop(output)))\n",
    "    # 4. Score the likelihood of every possible next word\n",
    "    decoded = self.decode(output)\n",
    "    return hidden, decoded"
   ]
  },
  {
   "cell_type": "markdown",
   "metadata": {
    "colab_type": "text",
    "id": "Mb4y0r7WXibS"
   },
   "source": [
    "## 3. Training a Model "
   ]
  },
  {
   "cell_type": "code",
   "execution_count": 13,
   "metadata": {
    "colab": {},
    "colab_type": "code",
    "id": "UPA-jER1YPN1"
   },
   "outputs": [],
   "source": [
    "\n",
    "\n",
    "import torch.nn.functional as F\n",
    "def training(model, data, targets, lr, hidden):\n",
    "  # Reset the model\n",
    "  model.zero_grad()\n",
    "\n",
    "  # Run the model to see its predictions and hidden states\n",
    "  hidden, prediction_vector = model(data, hidden)\n",
    "  prediction_vector = prediction_vector.view(-1, len(vocabulary))\n",
    "\n",
    "  # Compare the model's predictions at each timestep to the original data\n",
    "  loss = F.cross_entropy(prediction_vector, targets)\n",
    "  \n",
    "  # Compute gradients and perform back-propagation\n",
    "  loss.backward()\n",
    "  torch.nn.utils.clip_grad_norm_(model.parameters(), 0.25)\n",
    "  for p in model.parameters():\n",
    "      if p.grad is not None:\n",
    "        p.data.add_(-lr, p.grad.data)\n",
    "  \n",
    "  # Return the current model loss on this data item\n",
    "  return loss.item(), repackage_hidden(hidden)"
   ]
  },
  {
   "cell_type": "markdown",
   "metadata": {},
   "source": [
    "#### 3.1 Model Evaluation "
   ]
  },
  {
   "cell_type": "code",
   "execution_count": 14,
   "metadata": {
    "colab": {},
    "colab_type": "code",
    "id": "wEE6G8FhZ_px"
   },
   "outputs": [],
   "source": [
    "\n",
    "\n",
    "def evaluation(model):\n",
    "\n",
    "  model.eval()\n",
    "  hidden = None\n",
    "  valid_loss = 0\n",
    "  for i in range(0, valid.size(0) - seq_len, seq_len):\n",
    "    data, targets = get_batch(valid, i, seq_len)\n",
    "    hidden, prediction_vector = model(data, hidden) \n",
    "    hidden = repackage_hidden(hidden)\n",
    "\n",
    "    prediction_vector = prediction_vector.view(-1, len(vocabulary))\n",
    "    loss = F.cross_entropy(prediction_vector, targets)\n",
    "    valid_loss += loss.item() \n",
    "  return valid_loss / (valid.size(0)/seq_len)"
   ]
  },
  {
   "cell_type": "code",
   "execution_count": 15,
   "metadata": {
    "colab": {},
    "colab_type": "code",
    "id": "zUM8SRBgBjBQ"
   },
   "outputs": [
    {
     "name": "stderr",
     "output_type": "stream",
     "text": [
      "/Users/ramonmartin/opt/anaconda3/lib/python3.7/site-packages/ipykernel_launcher.py:20: UserWarning: This overload of add_ is deprecated:\n",
      "\tadd_(Number alpha, Tensor other)\n",
      "Consider using one of the following signatures instead:\n",
      "\tadd_(Tensor other, *, Number alpha) (Triggered internally at  /Users/distiller/project/conda/conda-bld/pytorch_1595629430416/work/torch/csrc/utils/python_arg_parser.cpp:766.)\n"
     ]
    },
    {
     "name": "stdout",
     "output_type": "stream",
     "text": [
      "Epoch  0 took 1883.49s with train perplexity:    5.93 and validation:    1.00\n",
      "Epoch  1 took 951.94s with train perplexity:    4.87 and validation:    1.00\n",
      "Epoch  2 took 847.65s with train perplexity:    4.58 and validation:    1.00\n",
      "Epoch  3 took 851.53s with train perplexity:    4.39 and validation:    1.00\n",
      "Epoch  4 took 838.21s with train perplexity:    4.24 and validation:    1.00\n",
      "Epoch  5 took 842.76s with train perplexity:    4.12 and validation:    1.00\n",
      "Epoch  6 took 854.79s with train perplexity:    4.01 and validation:    1.00\n",
      "Epoch  7 took 890.38s with train perplexity:    3.93 and validation:    1.00\n",
      "Epoch  8 took 930.76s with train perplexity:    3.87 and validation:    1.00\n",
      "Epoch  9 took 944.58s with train perplexity:    3.81 and validation:    1.00\n",
      "Completed 10 epochs in 163.935 minutes\n"
     ]
    }
   ],
   "source": [
    "\n",
    "import numpy as np\n",
    "import time\n",
    "model = EncoderDecoder().float().to(device)\n",
    "prev_valid_loss = 1e100\n",
    "# This scales the size of each step of backpropagation\n",
    "learning_rate = 20\n",
    "# This value should match the batch_size used earlier for splitting up the data\n",
    "batch_size = 20\n",
    "\n",
    "num_epochs = 10                # CHANGEME\n",
    "timing = time.time()\n",
    "for epoch in range(num_epochs):\n",
    "\n",
    "  # Set the model to training mode and iterate through the dataset\n",
    "  model.train()\n",
    "  hidden = None\n",
    "  train_loss = 0\n",
    "  start_time = time.time()\n",
    "  for i in range(0, train.size(0) - 1, seq_len):\n",
    "    # Get the next training batch\n",
    "    data, targets = get_batch(train, i, seq_len)\n",
    "    \n",
    "    # Run the model and perform backpropagation\n",
    "    loss, hidden = training(model, data, targets, learning_rate, hidden)\n",
    "    train_loss += loss\n",
    "\n",
    "  # Evaluate how well the model predicts unseen validation data\n",
    "  valid_loss = evaluation(model)\n",
    "\n",
    "  # Check if the model's ability to generalize has gotten worse.\n",
    "  # If so, slow the learning rate (shrink the step size)\n",
    "  if valid_loss > prev_valid_loss:\n",
    "    learning_rate /= 4.0\n",
    "\n",
    "  # Print the training and validation performance\n",
    "  train_loss /= (train.size(0)/seq_len)\n",
    "  finish_time = time.time()\n",
    "  print(\"Epoch {:2} took {:3.2f}s with train perplexity: {:7.2f}\"\\\n",
    "        \" and validation: {:7.2f}\".format(epoch, finish_time - start_time, \n",
    "                                          np.exp(train_loss), \n",
    "                                          np.exp(valid_loss)))\n",
    "  \n",
    "  prev_valid_loss = valid_loss\n",
    "\n",
    "total_time = (time.time() - timing)/60\n",
    "print(\"Completed {} epochs in {:5.3f} minutes\".format(num_epochs, total_time))\n"
   ]
  },
  {
   "cell_type": "markdown",
   "metadata": {
    "colab_type": "text",
    "id": "0FN3WcghH3E7"
   },
   "source": [
    "## 4. Sentence generation \n"
   ]
  },
  {
   "cell_type": "code",
   "execution_count": 33,
   "metadata": {
    "colab": {},
    "colab_type": "code",
    "id": "QkSJrjFhig8l"
   },
   "outputs": [
    {
     "name": "stdout",
     "output_type": "stream",
     "text": [
      "Argmax Generation:\n",
      "9.07E-10:  <s> afraid ' , ' mak ' , ' americ ' , ' gre ' , ' donaldjtrump ' ] \"\n",
      "\t\t</s> <s> \" [ ' realdonaldtrump ' , ' plea ' , ' run ' , ' presid ' , '\n",
      "\t\tnee ' , ' presid ' , ' nee '\n",
      "\n",
      "\n",
      "Sampled Generations:\n",
      "1.82E-07:  <s> afraid ' , ' think ' , ' lik ' , ' billionair ' ] \" </s> <s> \" [ '\n",
      "\t\tvia ' , ' breitbartnew ' , ' donald ' , ' trump ' , ' speak ' , '\n",
      "\t\tpolit ' , ' donald ' , ' trump '\n",
      "\n",
      "2.36E-08:  <s> afraid ' , ' think ' , ' lik ' , ' billionair ' , '\n",
      "\t\trealdonaldtrump ' ] \" </s> <s> \" [ ' realdonaldtrump ' , ' plea ' , '\n",
      "\t\trun ' , ' presid ' , ' americ ' , ' nee ' , ' real '\n",
      "\n",
      "1.22E-08:  <s> afraid ' , ' mak ' , ' americ ' , ' gre ' , ' donaldjtrump ' ] \"\n",
      "\t\t</s> <s> \" [ ' realdonaldtrump ' , ' plea ' , ' run ' , ' presid ' , '\n",
      "\t\til ' , ' run ' , ' presid '\n",
      "\n",
      "2.88E-10:  <s> afraid ' , ' giv ' , ' think ' , ' lik ' , ' billionair ' , ' tru\n",
      "\t\t' ] \" </s> <s> \" [ ' realdonaldtrump ' , ' plea ' , ' plea ' , ' plea\n",
      "\t\t' , ' run ' , ' presid '\n",
      "\n",
      "6.22E-12:  <s> afraid ' , ' think ' , ' lik ' , ' billionair ' ] \" </s> <s> \" [ '\n",
      "\t\tvia ' , ' breitbartnew ' , ' donald ' , ' trump ' , ' world ' , ' rec\n",
      "\t\t' , ' presid ' , ' trump '\n",
      "\n",
      "2.10E-12:  <s> afraid ' , ' go ing ' , ' play ' , ' gam ' , ' mak ' , ' americ '\n",
      "\t\t, ' gre ' , ' donaldjtrump ' ] \" </s> <s> \" [ ' realdonaldtrump ' , '\n",
      "\t\tfoxandfriend ' , ' foxandfriend ' , ' real\n",
      "\n",
      "1.60E-12:  <s> afraid ' , ' nuclear ' , ' deal ' , ' tak ' , ' plac ' , ' tim ' ]\n",
      "\t\t\" </s> <s> \" [ ' realdonaldtrump ' , ' plea ' , ' run ' , ' presid ' ,\n",
      "\t\t' nee ' , ' see '\n",
      "\n",
      "8.85E-13:  <s> afraid ' , ' want ' , ' know ' , ' win ' , ' think ' , ' lik ' , '\n",
      "\t\tbillionair ' ] \" </s> <s> \" [ ' realdonaldtrump ' , ' nee ' , ' run '\n",
      "\t\t, ' presid ' , ' nee '\n",
      "\n",
      "6.95E-13:  <s> afraid ' , ' want ' , ' buy ' , ' good ' , ' tim ' , ' alway ' , '\n",
      "\t\tgood ' , ' luck ' ] \" </s> <s> \" [ ' realdonaldtrump ' , ' plea ' , '\n",
      "\t\trun ' , ' presid '\n",
      "\n",
      "3.16E-13:  <s> afraid ' , ' enough ' , ' win ' , ' real ' , ' good ' , ' country\n",
      "\t\t' , ' thank ' ] \" </s> <s> \" [ ' realdonaldtrump ' , ' plea ' , ' run\n",
      "\t\t' , ' presid ' , ' nee '\n",
      "\n"
     ]
    }
   ],
   "source": [
    "# STEP 4.1\n",
    "\n",
    "# What do we want the model to start the sentence with?\n",
    "prefix = \"<s> afraid\"      #CHANGEME\n",
    "\n",
    "# How many words do we want the model to produce?  \n",
    "words_to_generate = 50   #CHANGEME\n",
    "\n",
    "# We are only going to be looking at one example at a time\n",
    "batch_size = 1\n",
    "\n",
    "# Set the model to be in evaluation mode (no backprop!)\n",
    "model.eval()\n",
    "\n",
    "# Let's get lots of possible sentences\n",
    "argmax_sent = None\n",
    "argmax_prob = 0\n",
    "collection = []\n",
    "for item in range(100):\n",
    "  # Convert our sentence start into numbers\n",
    "  test = [word_to_num[word] if word in word_to_num else word_to_num[\"unk\"] \\\n",
    "          for word in prefix.split()]\n",
    "  probabilities = []\n",
    "  \n",
    "  # Run the model on the same initial input and it's own generations until\n",
    "  # we reach `word_to_generate`\n",
    "  for w in range(words_to_generate):\n",
    "    # Run the model\n",
    "    input = torch.from_numpy(np.array(test)).to(device)\n",
    "    _, output = model(input.view(-1,1))\n",
    "    \n",
    "    # Get the prediction for the last (next) word\n",
    "    last_pred = output[-1,:,:].squeeze()        \n",
    "    \n",
    "    # We're going to block generation of unk \n",
    "    last_pred[word_to_num[\"unk\"]] = -100   \n",
    "    \n",
    "    # Do we want to sample from this distrubtion?\n",
    "    if item > 0:\n",
    "      # A temperature makes the distribution peakier (if < 1) or flatter if > 1\n",
    "      last_pred /= 0.70   #ADVANCED_CHANGEME\n",
    "\n",
    "      # Turn this into a distribution\n",
    "      dist = torch.distributions.categorical.Categorical(logits=last_pred)\n",
    "      \n",
    "      # Sample\n",
    "      predicted_idx = dist.sample().item()\n",
    "      \n",
    "    else:\n",
    "      # If we aren't sampling, just take the most probable word\n",
    "      _, predicted_idx = last_pred.max(0)\n",
    "      predicted_idx = predicted_idx.item()\n",
    "\n",
    "    # Save the predicted word's probability\n",
    "    value = F.log_softmax(last_pred,-1)[predicted_idx].item()\n",
    "    \n",
    "    # Add this predicted word (index) to the list\n",
    "    test.append(predicted_idx)\n",
    "    # Save the probability for sorting later\n",
    "    probabilities.append(value)\n",
    "    \n",
    "  if item > 0:\n",
    "    # Add our sentence and its score to a list\n",
    "    generation = (np.exp(np.sum(probabilities)), \\\n",
    "                       \" \".join([num_to_word[w] for w in test]))\n",
    "    if generation not in collection:\n",
    "      collection.append(generation)\n",
    "  else:\n",
    "    argmax_sent = \" \".join([num_to_word[w] for w in test])\n",
    "    argmax_prob = np.exp(np.sum(probabilities))\n",
    "\n",
    "# Get the best model predictions\n",
    "collection.sort()\n",
    "collection.reverse()\n",
    "print(\"Argmax Generation:\")\n",
    "print(\"{:.2E}:  {}\\n\".format(argmax_prob,\"\\n\\t\\t\".join(wrap(argmax_sent))))\n",
    "print(\"\\nSampled Generations:\")\n",
    "for probability, sent in collection[:10]:\n",
    "  print(\"{:.2E}:  {}\\n\".format(probability, \"\\n\\t\\t\".join(wrap(sent))))"
   ]
  },
  {
   "cell_type": "markdown",
   "metadata": {
    "colab_type": "text",
    "id": "AiABIZxixgcb"
   },
   "source": [
    "## 5. Conclusion \n",
    "Clearly basic regex stemming caused grammar issues. Overall much larger corpus should be used to more coherent results. Additionally using Transformer RNN instead of LSTM could also lead to much better results. "
   ]
  }
 ],
 "metadata": {
  "accelerator": "GPU",
  "colab": {
   "collapsed_sections": [],
   "name": "Natural Language Processing Lab (CODE): CC AI Ep 8",
   "provenance": []
  },
  "kernelspec": {
   "display_name": "Python 3",
   "language": "python",
   "name": "python3"
  },
  "language_info": {
   "codemirror_mode": {
    "name": "ipython",
    "version": 3
   },
   "file_extension": ".py",
   "mimetype": "text/x-python",
   "name": "python",
   "nbconvert_exporter": "python",
   "pygments_lexer": "ipython3",
   "version": "3.7.6"
  }
 },
 "nbformat": 4,
 "nbformat_minor": 4
}
